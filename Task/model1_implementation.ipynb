{
 "cells": [
  {
   "cell_type": "code",
   "execution_count": 23,
   "metadata": {},
   "outputs": [],
   "source": [
    "#import all neccecery library\n",
    "import pandas as pd\n",
    "import langdetect"
   ]
  },
  {
   "cell_type": "markdown",
   "metadata": {},
   "source": [
    "<h1>EDA</h1>"
   ]
  },
  {
   "cell_type": "code",
   "execution_count": 15,
   "metadata": {},
   "outputs": [],
   "source": [
    "train =pd.read_csv(\"../offence_data/train.csv\")\n",
    "test = pd.read_csv(\"../offence_data/test.csv\")\n",
    "valid = pd.read_csv(\"../offence_data/validation.csv\") "
   ]
  },
  {
   "cell_type": "code",
   "execution_count": 16,
   "metadata": {},
   "outputs": [
    {
     "data": {
      "text/html": [
       "<div>\n",
       "<style scoped>\n",
       "    .dataframe tbody tr th:only-of-type {\n",
       "        vertical-align: middle;\n",
       "    }\n",
       "\n",
       "    .dataframe tbody tr th {\n",
       "        vertical-align: top;\n",
       "    }\n",
       "\n",
       "    .dataframe thead th {\n",
       "        text-align: right;\n",
       "    }\n",
       "</style>\n",
       "<table border=\"1\" class=\"dataframe\">\n",
       "  <thead>\n",
       "    <tr style=\"text-align: right;\">\n",
       "      <th></th>\n",
       "      <th>id</th>\n",
       "      <th>feedback_text</th>\n",
       "      <th>toxic</th>\n",
       "      <th>abusive</th>\n",
       "      <th>vulgar</th>\n",
       "      <th>menace</th>\n",
       "      <th>offense</th>\n",
       "      <th>bigotry</th>\n",
       "    </tr>\n",
       "  </thead>\n",
       "  <tbody>\n",
       "    <tr>\n",
       "      <th>0</th>\n",
       "      <td>281d77b7bebc2201</td>\n",
       "      <td>:::Sounds good.  Let me know when you're done ...</td>\n",
       "      <td>0</td>\n",
       "      <td>0</td>\n",
       "      <td>0</td>\n",
       "      <td>0</td>\n",
       "      <td>0</td>\n",
       "      <td>0</td>\n",
       "    </tr>\n",
       "    <tr>\n",
       "      <th>1</th>\n",
       "      <td>716aac7bf3c63db1</td>\n",
       "      <td>\"\\nI say something, but it didn't actually con...</td>\n",
       "      <td>0</td>\n",
       "      <td>0</td>\n",
       "      <td>0</td>\n",
       "      <td>0</td>\n",
       "      <td>0</td>\n",
       "      <td>0</td>\n",
       "    </tr>\n",
       "    <tr>\n",
       "      <th>2</th>\n",
       "      <td>57cb318c6edcf10c</td>\n",
       "      <td>\"Agustina Barrientos]] \\n | Modelo de Piñeiro ...</td>\n",
       "      <td>0</td>\n",
       "      <td>0</td>\n",
       "      <td>0</td>\n",
       "      <td>0</td>\n",
       "      <td>0</td>\n",
       "      <td>0</td>\n",
       "    </tr>\n",
       "    <tr>\n",
       "      <th>3</th>\n",
       "      <td>dc3bd70118d91b3a</td>\n",
       "      <td>FYI I enjoy licking strangers scrotal sacks......</td>\n",
       "      <td>1</td>\n",
       "      <td>0</td>\n",
       "      <td>1</td>\n",
       "      <td>0</td>\n",
       "      <td>0</td>\n",
       "      <td>0</td>\n",
       "    </tr>\n",
       "    <tr>\n",
       "      <th>4</th>\n",
       "      <td>cf10d41f2997d233</td>\n",
       "      <td>How do you get a site?\\nMany penguins have ask...</td>\n",
       "      <td>0</td>\n",
       "      <td>0</td>\n",
       "      <td>0</td>\n",
       "      <td>0</td>\n",
       "      <td>0</td>\n",
       "      <td>0</td>\n",
       "    </tr>\n",
       "  </tbody>\n",
       "</table>\n",
       "</div>"
      ],
      "text/plain": [
       "                 id                                      feedback_text  toxic  \\\n",
       "0  281d77b7bebc2201  :::Sounds good.  Let me know when you're done ...      0   \n",
       "1  716aac7bf3c63db1  \"\\nI say something, but it didn't actually con...      0   \n",
       "2  57cb318c6edcf10c  \"Agustina Barrientos]] \\n | Modelo de Piñeiro ...      0   \n",
       "3  dc3bd70118d91b3a  FYI I enjoy licking strangers scrotal sacks......      1   \n",
       "4  cf10d41f2997d233  How do you get a site?\\nMany penguins have ask...      0   \n",
       "\n",
       "   abusive  vulgar  menace  offense  bigotry  \n",
       "0        0       0       0        0        0  \n",
       "1        0       0       0        0        0  \n",
       "2        0       0       0        0        0  \n",
       "3        0       1       0        0        0  \n",
       "4        0       0       0        0        0  "
      ]
     },
     "execution_count": 16,
     "metadata": {},
     "output_type": "execute_result"
    }
   ],
   "source": [
    "train.head()"
   ]
  },
  {
   "cell_type": "code",
   "execution_count": 17,
   "metadata": {},
   "outputs": [
    {
     "data": {
      "text/html": [
       "<div>\n",
       "<style scoped>\n",
       "    .dataframe tbody tr th:only-of-type {\n",
       "        vertical-align: middle;\n",
       "    }\n",
       "\n",
       "    .dataframe tbody tr th {\n",
       "        vertical-align: top;\n",
       "    }\n",
       "\n",
       "    .dataframe thead th {\n",
       "        text-align: right;\n",
       "    }\n",
       "</style>\n",
       "<table border=\"1\" class=\"dataframe\">\n",
       "  <thead>\n",
       "    <tr style=\"text-align: right;\">\n",
       "      <th></th>\n",
       "      <th>id</th>\n",
       "      <th>content</th>\n",
       "      <th>lang</th>\n",
       "    </tr>\n",
       "  </thead>\n",
       "  <tbody>\n",
       "    <tr>\n",
       "      <th>0</th>\n",
       "      <td>56496</td>\n",
       "      <td>Bahar merhaba, Şu TV programı için bildiğin gi...</td>\n",
       "      <td>tr</td>\n",
       "    </tr>\n",
       "    <tr>\n",
       "      <th>1</th>\n",
       "      <td>18266</td>\n",
       "      <td>Merhaba, başlık taşıma nedeniyle bir karışıklı...</td>\n",
       "      <td>tr</td>\n",
       "    </tr>\n",
       "    <tr>\n",
       "      <th>2</th>\n",
       "      <td>37852</td>\n",
       "      <td>kullanıcı   ne mutlu türküm diyene   yazmış ta...</td>\n",
       "      <td>tr</td>\n",
       "    </tr>\n",
       "    <tr>\n",
       "      <th>3</th>\n",
       "      <td>25075</td>\n",
       "      <td>Quand la plaisanterie sur le synopsis de ce fi...</td>\n",
       "      <td>fr</td>\n",
       "    </tr>\n",
       "    <tr>\n",
       "      <th>4</th>\n",
       "      <td>330</td>\n",
       "      <td>Não fosse seu esclarecimento no blog da Anne (...</td>\n",
       "      <td>pt</td>\n",
       "    </tr>\n",
       "  </tbody>\n",
       "</table>\n",
       "</div>"
      ],
      "text/plain": [
       "      id                                            content lang\n",
       "0  56496  Bahar merhaba, Şu TV programı için bildiğin gi...   tr\n",
       "1  18266  Merhaba, başlık taşıma nedeniyle bir karışıklı...   tr\n",
       "2  37852  kullanıcı   ne mutlu türküm diyene   yazmış ta...   tr\n",
       "3  25075  Quand la plaisanterie sur le synopsis de ce fi...   fr\n",
       "4    330  Não fosse seu esclarecimento no blog da Anne (...   pt"
      ]
     },
     "execution_count": 17,
     "metadata": {},
     "output_type": "execute_result"
    }
   ],
   "source": [
    "test.head()"
   ]
  },
  {
   "cell_type": "code",
   "execution_count": 20,
   "metadata": {},
   "outputs": [
    {
     "data": {
      "text/plain": [
       "array(['tr', 'fr', 'pt', 'it', 'ru', 'es'], dtype=object)"
      ]
     },
     "execution_count": 20,
     "metadata": {},
     "output_type": "execute_result"
    }
   ],
   "source": [
    "test['lang'].unique()"
   ]
  },
  {
   "cell_type": "code",
   "execution_count": 27,
   "metadata": {},
   "outputs": [
    {
     "name": "stdout",
     "output_type": "stream",
     "text": [
      "Language detection failed for text: '] // 02 // 03 // [http://www.webcitation.org/6MXxPPFVu 04'\n",
      "Language detection failed for text: 'http://www.mediamonitors.net/edna47.html   http://www.freerepublic.com/forum/a3ad7b207707d.htm'\n",
      "Language detection failed for text: ':http://knowyourmeme.com/memes/baneposting'\n",
      "Language detection failed for text: 'ㅂㄱㅇ ㅂㄱㅇ ㅂㄱㅇ ㅂㄱㅇ ㅂㄱㅇ ㅂㄱㅇ ㅂㄱㅇ ㅂㄱㅇ ㅂㄱㅇ ㅂㄱㅇ ㅂㄱㅇ ㅂㄱㅇ ㅂㄱㅇ ㅂㄱㅇ ㅂㄱㅇ ㅂㄱㅇ ㅂㄱㅇ ㅂㄱㅇ ㅂㄱㅇ ㅂㄱㅇ ㅂㄱㅇ ㅂㄱㅇ ㅂㄱㅇ ㅂㄱㅇ ㅂㄱㅇ ㅂㄱㅇ ㅂㄱㅇ ㅂㄱㅇ ㅂㄱㅇ ㅂㄱㅇ ㅂㄱㅇ ㅂㄱㅇ ㅂㄱㅇ ㅂㄱㅇ ㅂㄱㅇ ㅂㄱㅇ ㅂㄱㅇ ㅂㄱㅇ ㅂㄱㅇ ㅂㄱㅇ ㅂㄱㅇ ㅂㄱㅇ ㅂㄱㅇ ㅂㄱㅇ ㅂㄱㅇ ㅂㄱㅇ ㅂㄱㅇ ㅂㄱㅇ ㅂㄱㅇ ㅂㄱㅇ ㅂㄱㅇ ㅂㄱㅇ ㅂㄱㅇ ㅂㄱㅇ ㅂㄱㅇ ㅂㄱㅇ ㅂㄱㅇ ㅂㄱㅇ ㅂㄱㅇ ㅂㄱㅇ ㅂㄱㅇ ㅂㄱㅇ ㅂㄱㅇ ㅂㄱㅇ ㅂㄱㅇ ㅂㄱㅇ ㅂㄱㅇ ㅂㄱㅇ ㅂㄱㅇ ㅂㄱㅇ ㅂㄱㅇ ㅂㄱㅇ ㅂㄱㅇ ㅂㄱㅇ ㅂㄱㅇ ㅂㄱㅇ ㅂㄱㅇ ㅂㄱㅇ ㅂㄱㅇ ㅂㄱㅇ ㅂㄱㅇ ㅂㄱㅇ ㅂㄱㅇ ㅂㄱㅇ ㅂㄱㅇ ㅂㄱㅇ ㅂㄱㅇ ㅂㄱㅇ ㅂㄱㅇ ㅂㄱㅇ ㅂㄱㅇ ㅂㄱㅇ ㅂㄱㅇ ㅂㄱㅇ ㅂㄱㅇ ㅂㄱㅇ ㅂㄱㅇ ㅂㄱㅇ ㅂㄱㅇ ㅂㄱㅇ ㅂㄱㅇ ㅂㄱㅇ ㅂㄱㅇ ㅂㄱㅇ ㅂㄱㅇ ㅂㄱㅇ ㅂㄱㅇ ㅂㄱㅇ ㅂㄱㅇ ㅂㄱㅇ ㅂㄱㅇ ㅂㄱㅇ ㅂㄱㅇ ㅂㄱㅇ ㅂㄱㅇ ㅂㄱㅇ ㅂㄱㅇ ㅂㄱㅇ ㅂㄱㅇ ㅂㄱㅇ ㅂㄱㅇ ㅂㄱㅇ ㅂㄱㅇ ㅂㄱㅇ ㅂㄱㅇ ㅂㄱㅇ ㅂㄱㅇ ㅂㄱㅇ ㅂㄱㅇ ㅂㄱㅇ ㅂㄱㅇ ㅂㄱㅇ ㅂㄱㅇ ㅂㄱㅇ ㅂㄱㅇ ㅂㄱㅇ ㅂㄱㅇ ㅂㄱㅇ ㅂㄱㅇ ㅂㄱㅇ ㅂㄱㅇ ㅂㄱㅇ ㅂㄱㅇ ㅂㄱㅇ ㅂㄱㅇ ㅂㄱㅇ ㅂㄱㅇ ㅂㄱㅇ ㅂㄱㅇ ㅂㄱㅇ ㅂㄱㅇ ㅂㄱㅇ ㅂㄱㅇ ㅂㄱㅇ ㅂㄱㅇ ㅂㄱㅇ ㅂㄱㅇ ㅂㄱㅇ ㅂㄱㅇ ㅂㄱㅇ ㅂㄱㅇ ㅂㄱㅇ ㅂㄱㅇ ㅂㄱㅇ ㅂㄱㅇ ㅂㄱㅇ ㅂㄱㅇ ㅂㄱㅇ ㅂㄱㅇ ㅂㄱㅇ ㅂㄱㅇ ㅂㄱㅇ ㅂㄱㅇ ㅂㄱㅇ ㅂㄱㅇ ㅂㄱㅇ ㅂㄱㅇ ㅂㄱㅇ ㅂㄱㅇ ㅂㄱㅇ ㅂㄱㅇ ㅂㄱㅇ ㅂㄱㅇ ㅂㄱㅇ ㅂㄱㅇ ㅂㄱㅇ ㅂㄱㅇ ㅂㄱㅇ ㅂㄱㅇ ㅂㄱㅇ ㅂㄱㅇ ㅂㄱㅇ ㅂㄱㅇ ㅂㄱㅇ ㅂㄱㅇ ㅂㄱㅇ ㅂㄱㅇ ㅂㄱㅇ ㅂㄱㅇ ㅂㄱㅇ \n",
      "\n",
      " ㅂㄱㅇ ㅂㄱㅇ ㅂㄱㅇ ㅂㄱㅇ ㅂㄱㅇ ㅂㄱㅇ ㅂㄱㅇ ㅂㄱㅇ ㅂㄱㅇ ㅂㄱㅇ ㅂㄱㅇ ㅂㄱㅇ ㅂㄱㅇ ㅂㄱㅇ ㅂㄱㅇ ㅂㄱㅇ ㅂㄱㅇ ㅂㄱㅇ ㅂㄱㅇ ㅂㄱㅇ ㅂㄱㅇ ㅂㄱㅇ ㅂㄱㅇ ㅂㄱㅇ ㅂㄱㅇ ㅂㄱㅇ ㅂㄱㅇ ㅂㄱㅇ ㅂㄱㅇ ㅂㄱㅇ ㅂㄱㅇ ㅂㄱㅇ ㅂㄱㅇ ㅂㄱㅇ ㅂㄱㅇ ㅂㄱㅇ ㅂㄱㅇ ㅂㄱㅇ ㅂㄱㅇ ㅂㄱㅇ ㅂㄱㅇ ㅂㄱㅇ ㅂㄱㅇ ㅂㄱㅇ ㅂㄱㅇ ㅂㄱㅇ ㅂㄱㅇ ㅂㄱㅇ ㅂㄱㅇ ㅂㄱㅇ ㅂㄱㅇ ㅂㄱㅇ ㅂㄱㅇ ㅂㄱㅇ ㅂㄱㅇ ㅂㄱㅇ ㅂㄱㅇ ㅂㄱㅇ ㅂㄱㅇ ㅂㄱㅇ ㅂㄱㅇ ㅂㄱㅇ ㅂㄱㅇ ㅂㄱㅇ ㅂㄱㅇ ㅂㄱㅇ ㅂㄱㅇ ㅂㄱㅇ ㅂㄱㅇ ㅂㄱㅇ ㅂㄱㅇ ㅂㄱㅇ ㅂㄱㅇ ㅂㄱㅇ ㅂㄱㅇ ㅂㄱㅇ ㅂㄱㅇ ㅂㄱㅇ ㅂㄱㅇ ㅂㄱㅇ ㅂㄱㅇ ㅂㄱㅇ ㅂㄱㅇ ㅂㄱㅇ ㅂㄱㅇ ㅂㄱㅇ ㅂㄱㅇ ㅂㄱㅇ ㅂㄱㅇ ㅂㄱㅇ ㅂㄱㅇ ㅂㄱㅇ ㅂㄱㅇ ㅂㄱㅇ ㅂㄱㅇ ㅂㄱㅇ ㅂㄱㅇ ㅂㄱㅇ ㅂㄱㅇ ㅂㄱㅇ ㅂㄱㅇ ㅂㄱㅇ ㅂㄱㅇ ㅂㄱㅇ ㅂㄱㅇ ㅂㄱㅇ ㅂㄱㅇ ㅂㄱㅇ ㅂㄱㅇ ㅂㄱㅇ ㅂㄱㅇ ㅂㄱㅇ ㅂㄱㅇ ㅂㄱㅇ ㅂㄱㅇ ㅂㄱㅇ ㅂㄱㅇ ㅂㄱㅇ ㅂㄱㅇ ㅂㄱㅇ ㅂㄱㅇ ㅂㄱㅇ ㅂㄱㅇ ㅂㄱㅇ ㅂㄱㅇ ㅂㄱㅇ ㅂㄱㅇ ㅂㄱㅇ ㅂㄱㅇ ㅂㄱㅇ ㅂㄱㅇ ㅂㄱㅇ ㅂㄱㅇ ㅂㄱㅇ ㅂㄱㅇ ㅂㄱㅇ ㅂㄱㅇ ㅂㄱㅇ ㅂㄱㅇ ㅂㄱㅇ ㅂㄱㅇ ㅂㄱㅇ ㅂㄱㅇ ㅂㄱㅇ ㅂㄱㅇ ㅂㄱㅇ ㅂㄱㅇ ㅂㄱㅇ ㅂㄱㅇ ㅂㄱㅇ ㅂㄱㅇ ㅂㄱㅇ ㅂㄱㅇ ㅂㄱㅇ ㅂㄱㅇ ㅂㄱㅇ ㅂㄱㅇ ㅂㄱㅇ ㅂㄱㅇ ㅂㄱㅇ ㅂㄱㅇ ㅂㄱㅇ ㅂㄱㅇ ㅂㄱㅇ ㅂㄱㅇ ㅂㄱㅇ ㅂㄱㅇ ㅂㄱㅇ ㅂㄱㅇ ㅂㄱㅇ ㅂㄱㅇ ㅂㄱㅇ ㅂㄱㅇ ㅂㄱㅇ ㅂㄱㅇ ㅂㄱㅇ ㅂㄱㅇ ㅂㄱㅇ ㅂㄱㅇ ㅂㄱㅇ ㅂㄱㅇ ㅂㄱㅇ ㅂㄱㅇ ㅂㄱㅇ ㅂㄱㅇ ㅂㄱㅇ ㅂㄱㅇ ㅂㄱㅇ ㅂㄱㅇ ㅂㄱㅇ ㅂㄱㅇ ㅂㄱㅇ ㅂㄱㅇ ㅂㄱㅇ ㅂㄱㅇ ㅂㄱㅇ ㅂㄱㅇ ㅂㄱㅇ ㅂㄱㅇ ㅂㄱㅇ \n",
      "\n",
      " ㅂㄱㅇ ㅂㄱㅇ ㅂㄱㅇ ㅂㄱㅇ ㅂㄱㅇ ㅂㄱㅇ ㅂㄱㅇ ㅂㄱㅇ ㅂㄱㅇ ㅂㄱㅇ ㅂㄱㅇ ㅂㄱㅇ ㅂㄱㅇ ㅂㄱㅇ ㅂㄱㅇ ㅂㄱㅇ ㅂㄱㅇ ㅂㄱㅇ ㅂㄱㅇ ㅂㄱㅇ ㅂㄱㅇ ㅂㄱㅇ ㅂㄱㅇ ㅂㄱㅇ ㅂㄱㅇ ㅂㄱㅇ ㅂㄱㅇ ㅂㄱㅇ ㅂㄱㅇ ㅂㄱㅇ ㅂㄱㅇ ㅂㄱㅇ ㅂㄱㅇ ㅂㄱㅇ ㅂㄱㅇ ㅂㄱㅇ ㅂㄱㅇ ㅂㄱㅇ ㅂㄱㅇ ㅂㄱㅇ ㅂㄱㅇ ㅂㄱㅇ ㅂㄱㅇ ㅂㄱㅇ ㅂㄱㅇ ㅂㄱㅇ ㅂㄱㅇ ㅂㄱㅇ ㅂㄱㅇ ㅂㄱㅇ ㅂㄱㅇ ㅂㄱㅇ ㅂㄱㅇ ㅂㄱㅇ ㅂㄱㅇ ㅂㄱㅇ ㅂㄱㅇ ㅂㄱㅇ ㅂㄱㅇ ㅂㄱㅇ ㅂㄱㅇ ㅂㄱㅇ ㅂㄱㅇ ㅂㄱㅇ ㅂㄱㅇ ㅂㄱㅇ ㅂㄱㅇ ㅂㄱㅇ ㅂㄱㅇ ㅂㄱㅇ ㅂㄱㅇ ㅂㄱㅇ ㅂㄱㅇ ㅂㄱㅇ ㅂㄱㅇ ㅂㄱㅇ ㅂㄱㅇ ㅂㄱㅇ ㅂㄱㅇ ㅂㄱㅇ ㅂㄱㅇ ㅂㄱㅇ ㅂㄱㅇ ㅂㄱㅇ ㅂㄱㅇ ㅂㄱㅇ ㅂㄱㅇ ㅂㄱㅇ ㅂㄱㅇ ㅂㄱㅇ ㅂㄱㅇ ㅂㄱㅇ ㅂㄱㅇ ㅂㄱㅇ ㅂㄱㅇ ㅂㄱㅇ ㅂㄱㅇ ㅂㄱㅇ ㅂㄱㅇ ㅂㄱㅇ ㅂㄱㅇ ㅂㄱㅇ ㅂㄱㅇ ㅂㄱㅇ ㅂㄱㅇ ㅂㄱㅇ ㅂㄱㅇ ㅂㄱㅇ ㅂㄱㅇ ㅂㄱㅇ ㅂㄱㅇ ㅂㄱㅇ ㅂㄱㅇ ㅂㄱㅇ ㅂㄱㅇ ㅂㄱㅇ ㅂㄱㅇ ㅂㄱㅇ ㅂㄱㅇ ㅂㄱㅇ ㅂㄱㅇ ㅂㄱㅇ ㅂㄱㅇ ㅂㄱㅇ ㅂㄱㅇ ㅂㄱㅇ ㅂㄱㅇ ㅂㄱㅇ ㅂㄱㅇ ㅂㄱㅇ ㅂㄱㅇ ㅂㄱㅇ ㅂㄱㅇ ㅂㄱㅇ ㅂㄱㅇ ㅂㄱㅇ ㅂㄱㅇ ㅂㄱㅇ ㅂㄱㅇ ㅂㄱㅇ ㅂㄱㅇ ㅂㄱㅇ ㅂㄱㅇ ㅂㄱㅇ ㅂㄱㅇ ㅂㄱㅇ ㅂㄱㅇ ㅂㄱㅇ ㅂㄱㅇ ㅂㄱㅇ ㅂㄱㅇ ㅂㄱㅇ ㅂㄱㅇ ㅂㄱㅇ ㅂㄱㅇ ㅂㄱㅇ ㅂㄱㅇ ㅂㄱㅇ ㅂㄱㅇ ㅂㄱㅇ ㅂㄱㅇ ㅂㄱㅇ ㅂㄱㅇ ㅂㄱㅇ ㅂㄱㅇ ㅂㄱㅇ ㅂㄱㅇ ㅂㄱㅇ ㅂㄱㅇ ㅂㄱㅇ ㅂㄱㅇ ㅂㄱㅇ ㅂㄱㅇ ㅂㄱㅇ ㅂㄱㅇ ㅂㄱㅇ ㅂㄱㅇ ㅂㄱㅇ ㅂㄱㅇ ㅂㄱㅇ ㅂㄱㅇ ㅂㄱㅇ ㅂㄱㅇ ㅂㄱㅇ ㅂㄱㅇ ㅂㄱㅇ ㅂㄱㅇ ㅂㄱㅇ ㅂㄱㅇ ㅂㄱㅇ ㅂㄱㅇ ㅂㄱㅇ ㅂㄱㅇ ㅂㄱㅇ ㅂㄱㅇ ㅂㄱㅇ ㅂㄱㅇ ㅂㄱㅇ ㅂㄱㅇ ㅂㄱㅇ \n",
      "\n",
      " ㅂㄱㅇ ㅂㄱㅇ ㅂㄱㅇ ㅂㄱㅇ ㅂㄱㅇ ㅂㄱㅇ ㅂㄱㅇ ㅂㄱㅇ ㅂㄱㅇ ㅂㄱㅇ ㅂㄱㅇ ㅂㄱㅇ ㅂㄱㅇ ㅂㄱㅇ ㅂㄱㅇ ㅂㄱㅇ ㅂㄱㅇ ㅂㄱㅇ ㅂㄱㅇ ㅂㄱㅇ ㅂㄱㅇ ㅂㄱㅇ ㅂㄱㅇ ㅂㄱㅇ ㅂㄱㅇ ㅂㄱㅇ ㅂㄱㅇ ㅂㄱㅇ ㅂㄱㅇ ㅂㄱㅇ ㅂㄱㅇ ㅂㄱㅇ ㅂㄱㅇ ㅂㄱㅇ ㅂㄱㅇ ㅂㄱㅇ ㅂㄱㅇ ㅂㄱㅇ ㅂㄱㅇ ㅂㄱㅇ ㅂㄱㅇ ㅂㄱㅇ ㅂㄱㅇ ㅂㄱㅇ ㅂㄱㅇ ㅂㄱㅇ ㅂㄱㅇ ㅂㄱㅇ ㅂㄱㅇ ㅂㄱㅇ ㅂㄱㅇ ㅂㄱㅇ ㅂㄱㅇ ㅂㄱㅇ ㅂㄱㅇ ㅂㄱㅇ ㅂㄱㅇ ㅂㄱㅇ ㅂㄱㅇ ㅂㄱㅇ ㅂㄱㅇ ㅂㄱㅇ ㅂㄱㅇ ㅂㄱㅇ ㅂㄱㅇ ㅂㄱㅇ ㅂㄱㅇ ㅂㄱㅇ ㅂㄱㅇ ㅂㄱㅇ ㅂㄱㅇ ㅂㄱㅇ ㅂㄱㅇ ㅂㄱㅇ ㅂㄱㅇ ㅂㄱㅇ ㅂㄱㅇ ㅂㄱㅇ ㅂㄱㅇ ㅂㄱㅇ ㅂㄱㅇ ㅂㄱㅇ ㅂㄱㅇ ㅂㄱㅇ ㅂㄱㅇ ㅂㄱㅇ ㅂㄱㅇ ㅂㄱㅇ ㅂㄱㅇ ㅂㄱㅇ ㅂㄱㅇ ㅂㄱㅇ ㅂㄱㅇ ㅂㄱㅇ ㅂㄱㅇ ㅂㄱㅇ ㅂㄱㅇ ㅂㄱㅇ ㅂㄱㅇ ㅂㄱㅇ ㅂㄱㅇ ㅂㄱㅇ ㅂㄱㅇ ㅂㄱㅇ ㅂㄱㅇ ㅂㄱㅇ ㅂㄱㅇ ㅂㄱㅇ ㅂㄱㅇ ㅂㄱㅇ ㅂㄱㅇ ㅂㄱㅇ ㅂㄱㅇ ㅂㄱㅇ ㅂㄱㅇ ㅂㄱㅇ ㅂㄱㅇ ㅂㄱㅇ ㅂㄱㅇ ㅂㄱㅇ ㅂㄱㅇ ㅂㄱㅇ ㅂㄱㅇ ㅂㄱㅇ ㅂㄱㅇ ㅂㄱㅇ ㅂㄱㅇ ㅂㄱㅇ ㅂㄱㅇ ㅂㄱㅇ ㅂㄱㅇ ㅂㄱㅇ ㅂㄱㅇ ㅂㄱㅇ ㅂㄱㅇ ㅂㄱㅇ ㅂㄱㅇ ㅂㄱㅇ ㅂㄱㅇ ㅂㄱㅇ ㅂㄱㅇ ㅂㄱㅇ ㅂㄱㅇ ㅂㄱㅇ ㅂㄱㅇ ㅂㄱㅇ ㅂㄱㅇ ㅂㄱㅇ ㅂㄱㅇ ㅂㄱㅇ ㅂㄱㅇ ㅂㄱㅇ ㅂㄱㅇ ㅂㄱㅇ ㅂㄱㅇ ㅂㄱㅇ ㅂㄱㅇ ㅂㄱㅇ ㅂㄱㅇ ㅂㄱㅇ ㅂㄱㅇ ㅂㄱㅇ ㅂㄱㅇ ㅂㄱㅇ ㅂㄱㅇ ㅂㄱㅇ ㅂㄱㅇ ㅂㄱㅇ ㅂㄱㅇ ㅂㄱㅇ ㅂㄱㅇ ㅂㄱㅇ ㅂㄱㅇ ㅂㄱㅇ ㅂㄱㅇ ㅂㄱㅇ ㅂㄱㅇ ㅂㄱㅇ ㅂㄱㅇ ㅂㄱㅇ ㅂㄱㅇ ㅂㄱㅇ ㅂㄱㅇ ㅂㄱㅇ ㅂㄱㅇ ㅂㄱㅇ ㅂㄱㅇ ㅂㄱㅇ ㅂㄱㅇ ㅂㄱㅇ ㅂㄱㅇ ㅂㄱㅇ ㅂㄱㅇ ㅂㄱㅇ ㅂㄱㅇ ㅂㄱㅇ ㅂㄱㅇ ㅂㄱㅇ ㅂㄱㅇ ㅂㄱㅇ \n",
      "\n",
      " ㅂㄱㅇ ㅂㄱㅇ ㅂㄱㅇ ㅂㄱㅇ ㅂㄱㅇ ㅂㄱㅇ ㅂㄱㅇ ㅂㄱㅇ ㅂㄱㅇ ㅂㄱㅇ ㅂㄱㅇ ㅂㄱㅇ ㅂㄱㅇ ㅂㄱㅇ ㅂㄱㅇ ㅂㄱㅇ ㅂㄱㅇ ㅂㄱㅇ ㅂㄱㅇ ㅂㄱㅇ ㅂㄱㅇ ㅂㄱㅇ ㅂㄱㅇ ㅂㄱㅇ ㅂㄱㅇ ㅂㄱㅇ ㅂㄱㅇ ㅂㄱㅇ ㅂㄱㅇ ㅂㄱㅇ ㅂㄱㅇ ㅂㄱㅇ ㅂㄱㅇ ㅂㄱㅇ ㅂㄱㅇ ㅂㄱㅇ ㅂㄱㅇ ㅂㄱㅇ ㅂㄱㅇ ㅂㄱㅇ ㅂㄱㅇ ㅂㄱㅇ ㅂㄱㅇ ㅂㄱㅇ ㅂㄱㅇ ㅂㄱㅇ ㅂㄱㅇ ㅂㄱㅇ ㅂㄱㅇ ㅂㄱㅇ ㅂㄱㅇ ㅂㄱㅇ ㅂㄱㅇ ㅂㄱㅇ ㅂㄱㅇ ㅂㄱㅇ ㅂㄱㅇ ㅂㄱㅇ ㅂㄱㅇ ㅂㄱㅇ ㅂㄱㅇ ㅂㄱㅇ ㅂㄱㅇ ㅂㄱㅇ ㅂㄱㅇ ㅂㄱㅇ ㅂㄱㅇ ㅂㄱㅇ ㅂㄱㅇ ㅂㄱㅇ ㅂㄱㅇ ㅂㄱㅇ ㅂㄱㅇ ㅂㄱㅇ ㅂㄱㅇ ㅂㄱㅇ ㅂㄱㅇ ㅂㄱㅇ ㅂㄱㅇ ㅂㄱㅇ ㅂㄱㅇ ㅂㄱㅇ ㅂㄱㅇ ㅂㄱㅇ ㅂㄱㅇ ㅂㄱㅇ ㅂㄱㅇ ㅂㄱㅇ ㅂㄱㅇ ㅂㄱㅇ ㅂㄱㅇ ㅂㄱㅇ ㅂㄱㅇ ㅂㄱㅇ ㅂㄱㅇ ㅂㄱㅇ ㅂㄱㅇ ㅂㄱㅇ ㅂㄱㅇ ㅂㄱㅇ ㅂㄱㅇ ㅂㄱㅇ ㅂㄱㅇ ㅂㄱㅇ ㅂㄱㅇ ㅂㄱㅇ ㅂㄱㅇ ㅂㄱㅇ ㅂㄱㅇ ㅂㄱㅇ ㅂㄱㅇ ㅂㄱㅇ ㅂㄱㅇ ㅂㄱㅇ ㅂㄱㅇ ㅂㄱㅇ ㅂㄱㅇ ㅂㄱㅇ ㅂㄱㅇ ㅂㄱㅇ ㅂㄱㅇ ㅂㄱㅇ ㅂㄱㅇ ㅂㄱㅇ ㅂㄱㅇ ㅂㄱㅇ ㅂㄱㅇ ㅂㄱㅇ ㅂㄱㅇ ㅂㄱㅇ ㅂㄱㅇ ㅂㄱㅇ ㅂㄱㅇ ㅂㄱㅇ ㅂㄱㅇ ㅂㄱㅇ ㅂㄱㅇ ㅂㄱㅇ ㅂㄱㅇ ㅂㄱㅇ ㅂㄱㅇ ㅂㄱㅇ ㅂㄱㅇ ㅂㄱㅇ ㅂㄱㅇ ㅂㄱㅇ ㅂㄱㅇ ㅂㄱㅇ ㅂㄱㅇ ㅂㄱㅇ ㅂㄱㅇ ㅂㄱㅇ ㅂㄱㅇ ㅂㄱㅇ ㅂㄱㅇ ㅂㄱㅇ ㅂㄱㅇ ㅂㄱㅇ ㅂㄱㅇ ㅂㄱㅇ ㅂㄱㅇ ㅂㄱㅇ ㅂㄱㅇ ㅂㄱㅇ ㅂㄱㅇ ㅂㄱㅇ ㅂㄱㅇ ㅂㄱㅇ ㅂㄱㅇ ㅂㄱㅇ ㅂㄱㅇ ㅂㄱㅇ ㅂㄱㅇ ㅂㄱㅇ ㅂㄱㅇ ㅂㄱㅇ ㅂㄱㅇ ㅂㄱㅇ ㅂㄱㅇ ㅂㄱㅇ ㅂㄱㅇ ㅂㄱㅇ ㅂㄱㅇ ㅂㄱㅇ ㅂㄱㅇ ㅂㄱㅇ ㅂㄱㅇ ㅂㄱㅇ ㅂㄱㅇ ㅂㄱㅇ ㅂㄱㅇ ㅂㄱㅇ ㅂㄱㅇ ㅂㄱㅇ ㅂㄱㅇ ㅂㄱㅇ ㅂㄱㅇ ㅂㄱㅇ ㅂㄱㅇ ㅂㄱㅇ \n",
      "\n",
      " ㅂㄱㅇ ㅂㄱㅇ ㅂㄱㅇ ㅂㄱㅇ ㅂㄱㅇ ㅂㄱㅇ ㅂㄱㅇ ㅂㄱㅇ ㅂㄱㅇ ㅂㄱㅇ ㅂㄱㅇ ㅂㄱㅇ ㅂㄱㅇ ㅂㄱㅇ ㅂㄱㅇ ㅂㄱㅇ ㅂㄱㅇ ㅂㄱㅇ ㅂㄱㅇ ㅂㄱㅇ ㅂㄱㅇ ㅂㄱㅇ ㅂㄱㅇ ㅂㄱㅇ ㅂㄱㅇ ㅂㄱㅇ ㅂㄱㅇ ㅂㄱㅇ ㅂㄱㅇ ㅂㄱㅇ ㅂㄱㅇ ㅂㄱㅇ ㅂㄱㅇ ㅂㄱㅇ ㅂㄱㅇ ㅂㄱㅇ ㅂㄱㅇ ㅂㄱㅇ ㅂㄱㅇ ㅂㄱㅇ ㅂㄱㅇ ㅂㄱㅇ ㅂㄱㅇ ㅂㄱㅇ ㅂㄱㅇ ㅂㄱㅇ ㅂㄱㅇ ㅂㄱㅇ ㅂㄱㅇ ㅂㄱㅇ ㅂㄱㅇ ㅂㄱㅇ ㅂㄱㅇ ㅂㄱㅇ ㅂㄱㅇ ㅂㄱㅇ ㅂㄱㅇ ㅂㄱㅇ ㅂㄱㅇ ㅂㄱㅇ ㅂㄱㅇ ㅂㄱㅇ ㅂㄱㅇ ㅂㄱㅇ ㅂㄱㅇ ㅂㄱㅇ ㅂㄱㅇ ㅂㄱㅇ ㅂㄱㅇ ㅂㄱㅇ ㅂㄱㅇ ㅂㄱㅇ ㅂㄱㅇ ㅂㄱㅇ ㅂㄱㅇ ㅂㄱㅇ ㅂㄱㅇ ㅂㄱㅇ ㅂㄱㅇ ㅂㄱㅇ ㅂㄱㅇ ㅂㄱㅇ ㅂㄱㅇ ㅂㄱㅇ ㅂㄱㅇ ㅂㄱㅇ ㅂㄱㅇ ㅂㄱㅇ ㅂㄱㅇ ㅂㄱㅇ ㅂㄱㅇ ㅂㄱㅇ ㅂㄱㅇ ㅂㄱㅇ ㅂㄱㅇ ㅂㄱㅇ ㅂㄱㅇ ㅂㄱㅇ ㅂㄱㅇ ㅂㄱㅇ ㅂㄱㅇ ㅂㄱㅇ ㅂㄱㅇ ㅂㄱㅇ ㅂㄱㅇ ㅂㄱㅇ ㅂㄱㅇ ㅂㄱㅇ ㅂㄱㅇ ㅂㄱㅇ ㅂㄱㅇ ㅂㄱㅇ ㅂㄱㅇ ㅂㄱㅇ ㅂㄱㅇ ㅂㄱㅇ ㅂㄱㅇ ㅂㄱㅇ ㅂㄱㅇ ㅂㄱㅇ ㅂㄱㅇ ㅂㄱㅇ ㅂㄱㅇ ㅂㄱㅇ ㅂㄱㅇ ㅂㄱㅇ ㅂㄱㅇ ㅂㄱㅇ ㅂㄱㅇ ㅂㄱㅇ ㅂㄱㅇ ㅂㄱㅇ ㅂㄱㅇ ㅂㄱㅇ ㅂㄱㅇ ㅂㄱㅇ ㅂㄱㅇ ㅂㄱㅇ ㅂㄱㅇ ㅂㄱㅇ ㅂㄱㅇ ㅂㄱㅇ ㅂㄱㅇ ㅂㄱㅇ ㅂㄱㅇ ㅂㄱㅇ ㅂㄱㅇ ㅂㄱㅇ ㅂㄱㅇ ㅂㄱㅇ ㅂㄱㅇ ㅂㄱㅇ ㅂㄱㅇ ㅂㄱㅇ ㅂㄱㅇ ㅂㄱㅇ ㅂㄱㅇ ㅂㄱㅇ ㅂㄱㅇ ㅂㄱㅇ ㅂㄱㅇ ㅂㄱㅇ ㅂㄱㅇ ㅂㄱㅇ ㅂㄱㅇ ㅂㄱㅇ ㅂㄱㅇ ㅂㄱㅇ ㅂㄱㅇ ㅂㄱㅇ ㅂㄱㅇ ㅂㄱㅇ ㅂㄱㅇ ㅂㄱㅇ ㅂㄱㅇ ㅂㄱㅇ ㅂㄱㅇ ㅂㄱㅇ ㅂㄱㅇ ㅂㄱㅇ ㅂㄱㅇ ㅂㄱㅇ ㅂㄱㅇ ㅂㄱㅇ ㅂㄱㅇ ㅂㄱㅇ ㅂㄱㅇ ㅂㄱㅇ ㅂㄱㅇ ㅂㄱㅇ ㅂㄱㅇ ㅂㄱㅇ ㅂㄱㅇ ㅂㄱㅇ ㅂㄱㅇ ㅂㄱㅇ ㅂㄱㅇ ㅂㄱㅇ ㅂㄱㅇ ㅂㄱㅇ \n",
      "\n",
      " ㅂㄱㅇ ㅂㄱㅇ ㅂㄱㅇ ㅂㄱㅇ ㅂㄱㅇ ㅂㄱㅇ ㅂㄱㅇ ㅂㄱㅇ ㅂㄱㅇ ㅂㄱㅇ ㅂㄱㅇ ㅂㄱㅇ ㅂㄱㅇ ㅂㄱㅇ ㅂㄱㅇ ㅂㄱㅇ ㅂㄱㅇ ㅂㄱㅇ ㅂㄱㅇ ㅂㄱㅇ ㅂㄱㅇ ㅂㄱㅇ ㅂㄱㅇ ㅂㄱㅇ ㅂㄱㅇ ㅂㄱㅇ ㅂㄱㅇ ㅂㄱㅇ ㅂㄱㅇ ㅂㄱㅇ ㅂㄱ'\n"
     ]
    }
   ],
   "source": [
    "languages = {}\n",
    "for text in train['feedback_text'].dropna(): # drop NaN values to avoid errors\n",
    "    try:\n",
    "        lang = langdetect.detect(text)\n",
    "        languages[lang] = languages.get(lang, 0) + 1\n",
    "    except langdetect.LangDetectException:\n",
    "            # Handle cases where language detection fails (e.g., short or ambiguous text)\n",
    "            print(f\"Language detection failed for text: '{text}'\")\n",
    "            pass # or use a default language, or add to a count of undetected items.\n"
   ]
  },
  {
   "cell_type": "code",
   "execution_count": 28,
   "metadata": {},
   "outputs": [
    {
     "data": {
      "text/plain": [
       "{'en': 22609,\n",
       " 'es': 29,\n",
       " 'tl': 29,\n",
       " 'no': 33,\n",
       " 'de': 93,\n",
       " 'fa': 15,\n",
       " 'so': 62,\n",
       " 'id': 40,\n",
       " 'et': 50,\n",
       " 'fr': 67,\n",
       " 'af': 55,\n",
       " 'vi': 18,\n",
       " 'cy': 37,\n",
       " 'sl': 10,\n",
       " 'tr': 21,\n",
       " 'pt': 29,\n",
       " 'sw': 10,\n",
       " 'hr': 19,\n",
       " 'fi': 10,\n",
       " 'nl': 32,\n",
       " 'it': 24,\n",
       " 'cs': 3,\n",
       " 'sv': 31,\n",
       " 'da': 25,\n",
       " 'ro': 20,\n",
       " 'ar': 11,\n",
       " 'pl': 8,\n",
       " 'bn': 2,\n",
       " 'ca': 19,\n",
       " 'hu': 12,\n",
       " 'lt': 2,\n",
       " 'sq': 9,\n",
       " 'sk': 7,\n",
       " 'ru': 6,\n",
       " 'he': 2,\n",
       " 'ko': 2,\n",
       " 'zh-cn': 1,\n",
       " 'gu': 1,\n",
       " 'ta': 1,\n",
       " 'el': 3,\n",
       " 'hi': 3,\n",
       " 'th': 1,\n",
       " 'lv': 1,\n",
       " 'mk': 1,\n",
       " 'ml': 2,\n",
       " 'zh-tw': 1,\n",
       " 'te': 1,\n",
       " 'mr': 1,\n",
       " 'bg': 1}"
      ]
     },
     "execution_count": 28,
     "metadata": {},
     "output_type": "execute_result"
    }
   ],
   "source": [
    "languages"
   ]
  },
  {
   "cell_type": "code",
   "execution_count": 18,
   "metadata": {},
   "outputs": [
    {
     "data": {
      "text/html": [
       "<div>\n",
       "<style scoped>\n",
       "    .dataframe tbody tr th:only-of-type {\n",
       "        vertical-align: middle;\n",
       "    }\n",
       "\n",
       "    .dataframe tbody tr th {\n",
       "        vertical-align: top;\n",
       "    }\n",
       "\n",
       "    .dataframe thead th {\n",
       "        text-align: right;\n",
       "    }\n",
       "</style>\n",
       "<table border=\"1\" class=\"dataframe\">\n",
       "  <thead>\n",
       "    <tr style=\"text-align: right;\">\n",
       "      <th></th>\n",
       "      <th>id</th>\n",
       "      <th>feedback_text</th>\n",
       "      <th>lang</th>\n",
       "      <th>toxic</th>\n",
       "    </tr>\n",
       "  </thead>\n",
       "  <tbody>\n",
       "    <tr>\n",
       "      <th>0</th>\n",
       "      <td>1203</td>\n",
       "      <td>İyi tamam olabilir. Balkanlar maddesini gelişt...</td>\n",
       "      <td>tr</td>\n",
       "      <td>0</td>\n",
       "    </tr>\n",
       "    <tr>\n",
       "      <th>1</th>\n",
       "      <td>5871</td>\n",
       "      <td>Por dios, y la canción de John Lennon: http://...</td>\n",
       "      <td>es</td>\n",
       "      <td>1</td>\n",
       "    </tr>\n",
       "    <tr>\n",
       "      <th>2</th>\n",
       "      <td>3590</td>\n",
       "      <td>Selam. Öncelikle tebrik ederim... Bu arada ken...</td>\n",
       "      <td>tr</td>\n",
       "      <td>0</td>\n",
       "    </tr>\n",
       "    <tr>\n",
       "      <th>3</th>\n",
       "      <td>447</td>\n",
       "      <td>Leggiti tutte le discussioni. Magari cancellal...</td>\n",
       "      <td>it</td>\n",
       "      <td>1</td>\n",
       "    </tr>\n",
       "    <tr>\n",
       "      <th>4</th>\n",
       "      <td>6634</td>\n",
       "      <td>A LAS TOKITAS NOS VALE QUE LAS JONATICAS INSUL...</td>\n",
       "      <td>es</td>\n",
       "      <td>1</td>\n",
       "    </tr>\n",
       "  </tbody>\n",
       "</table>\n",
       "</div>"
      ],
      "text/plain": [
       "     id                                      feedback_text lang  toxic\n",
       "0  1203  İyi tamam olabilir. Balkanlar maddesini gelişt...   tr      0\n",
       "1  5871  Por dios, y la canción de John Lennon: http://...   es      1\n",
       "2  3590  Selam. Öncelikle tebrik ederim... Bu arada ken...   tr      0\n",
       "3   447  Leggiti tutte le discussioni. Magari cancellal...   it      1\n",
       "4  6634  A LAS TOKITAS NOS VALE QUE LAS JONATICAS INSUL...   es      1"
      ]
     },
     "execution_count": 18,
     "metadata": {},
     "output_type": "execute_result"
    }
   ],
   "source": [
    "valid.head()"
   ]
  }
 ],
 "metadata": {
  "kernelspec": {
   "display_name": "offence",
   "language": "python",
   "name": "python3"
  },
  "language_info": {
   "codemirror_mode": {
    "name": "ipython",
    "version": 3
   },
   "file_extension": ".py",
   "mimetype": "text/x-python",
   "name": "python",
   "nbconvert_exporter": "python",
   "pygments_lexer": "ipython3",
   "version": "3.10.17"
  }
 },
 "nbformat": 4,
 "nbformat_minor": 2
}
